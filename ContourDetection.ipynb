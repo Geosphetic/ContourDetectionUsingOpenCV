{
 "cells": [
  {
   "cell_type": "code",
   "execution_count": null,
   "id": "f0fa6ab8",
   "metadata": {},
   "outputs": [],
   "source": [
    "import numpy as np\n",
    "import cv2 as cv\n",
    "\n",
    "#Read image using imread(\"PATH\") as:\n",
    "\n",
    "img = cv.imread(\"C:\\Users\\Geosphetic\\King\\Collaps.jpg\")\n",
    "\n",
    "imgray = cv.cvtColor(img, cv.COLOR_BGR2GRAY)\n",
    "\n",
    "width = 28\n",
    "height = 28\n",
    "dim = (width, height)\n",
    "\n",
    "# resize the image by:\n",
    "resized = cv.resize(imgray, dim)\n",
    "\n",
    "ret,resized = cv.threshold(resized,150,255,cv.THRESH_BINARY_INV)  # also try cv.THRESH_BINARY\n",
    "\n",
    "#display or see image using imshow() as:\n",
    "cv.imshow('Binary Image',resized)\n",
    "\n",
    "cv.waitKey(0)\n",
    "\n",
    "#save image to any required directory using imwrite(\"PATH\",resized) {here ,resized is the used as ret, resized}\n",
    "cv.imwrite(r\"C:\\Users\\Geosphetic\\RESIZED\\CollapsResized.png\",resized)\n",
    "\n",
    "cv.destroyAllWindows()"
   ]
  }
 ],
 "metadata": {
  "kernelspec": {
   "display_name": "Python 3 (ipykernel)",
   "language": "python",
   "name": "python3"
  },
  "language_info": {
   "codemirror_mode": {
    "name": "ipython",
    "version": 3
   },
   "file_extension": ".py",
   "mimetype": "text/x-python",
   "name": "python",
   "nbconvert_exporter": "python",
   "pygments_lexer": "ipython3",
   "version": "3.9.7"
  }
 },
 "nbformat": 4,
 "nbformat_minor": 5
}
